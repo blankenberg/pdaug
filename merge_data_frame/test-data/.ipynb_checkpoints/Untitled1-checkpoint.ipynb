{
 "cells": [
  {
   "cell_type": "code",
   "execution_count": 42,
   "metadata": {},
   "outputs": [
    {
     "name": "stderr",
     "output_type": "stream",
     "text": [
      "Warning message in read.table(file = file, header = header, sep = sep, quote = quote, :\n",
      "“incomplete final line found by readTableHeader on '/Users/joshij/Desktop/GitRepos/Peptide/align/New.csv'”\n"
     ]
    },
    {
     "ename": "ERROR",
     "evalue": "Error in data[[rowvar]]: attempt to select less than one element in get1index\n",
     "output_type": "error",
     "traceback": [
      "Error in data[[rowvar]]: attempt to select less than one element in get1index\nTraceback:\n",
      "1. read.csv(\"/Users/joshij/Desktop/GitRepos/Peptide/align/New.csv\", \n .     sep = \",\", header = TRUE, row.names = \"index\")",
      "2. read.table(file = file, header = header, sep = sep, quote = quote, \n .     dec = dec, fill = fill, comment.char = comment.char, ...)"
     ]
    }
   ],
   "source": [
    "m <- read.csv(\"/Users/joshij/Desktop/GitRepos/Peptide/align/New.csv\", sep=\",\",header=TRUE, row.names='index')\n",
    "\n",
    "\n",
    "m <- as.matrix(read.table(\"/Users/joshij/Desktop/GitRepos/Peptide/align/New.csv\", sep=\",\", header=TRUE, row.names='index')[, 1:4])"
   ]
  },
  {
   "cell_type": "code",
   "execution_count": 38,
   "metadata": {},
   "outputs": [],
   "source": [
    "library(igraph)"
   ]
  },
  {
   "cell_type": "code",
   "execution_count": 40,
   "metadata": {},
   "outputs": [
    {
     "ename": "ERROR",
     "evalue": "Error in mde(x): 'list' object cannot be coerced to type 'double'\n",
     "output_type": "error",
     "traceback": [
      "Error in mde(x): 'list' object cannot be coerced to type 'double'\nTraceback:\n",
      "1. graph.adjacency(m, mode = \"undirected\", weighted = TRUE)",
      "2. graph.adjacency.dense(adjmatrix, mode = mode, weighted = weighted, \n .     diag = diag)",
      "3. `mode<-`(`*tmp*`, value = \"double\")"
     ]
    }
   ],
   "source": [
    "m <- as.matrix(read.table(\"out_1.csv\", sep=\",\", header=TRUE, row.names='index')[, 1:4])"
   ]
  },
  {
   "cell_type": "code",
   "execution_count": null,
   "metadata": {},
   "outputs": [],
   "source": []
  }
 ],
 "metadata": {
  "kernelspec": {
   "display_name": "R",
   "language": "R",
   "name": "ir"
  },
  "language_info": {
   "codemirror_mode": "r",
   "file_extension": ".r",
   "mimetype": "text/x-r-source",
   "name": "R",
   "pygments_lexer": "r",
   "version": "4.0.0"
  }
 },
 "nbformat": 4,
 "nbformat_minor": 2
}
